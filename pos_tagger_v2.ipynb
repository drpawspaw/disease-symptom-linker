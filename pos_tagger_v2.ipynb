{
  "cells": [
    {
      "cell_type": "markdown",
      "source": [
        "## Download files and load datasets"
      ],
      "metadata": {
        "id": "-zEJ4RVMpelZ"
      },
      "id": "-zEJ4RVMpelZ"
    },
    {
      "cell_type": "code",
      "execution_count": 1,
      "id": "62dd9bb7",
      "metadata": {
        "id": "62dd9bb7"
      },
      "outputs": [],
      "source": [
        "# File to annotated docs | Documents annotated using the doccano\n",
        "# doccano is an open-source package available in github (Need to host it somewhere, or localsetup)\n",
        "# It helps to annotate the documents\n",
        "corpus_path = '/content/annotated-docs.jsonl'"
      ]
    },
    {
      "cell_type": "code",
      "execution_count": 2,
      "id": "9e5bd5f4",
      "metadata": {
        "id": "9e5bd5f4"
      },
      "outputs": [],
      "source": [
        "import json\n",
        "\n",
        "def load_jsonl(path):\n",
        "    data = []\n",
        "    with open(path, 'r', encoding='utf-8') as reader:\n",
        "        for line in reader:\n",
        "            data.append(json.loads(line))\n",
        "    return data"
      ]
    },
    {
      "cell_type": "code",
      "execution_count": 3,
      "id": "8f78b206",
      "metadata": {
        "id": "8f78b206"
      },
      "outputs": [],
      "source": [
        "corpus = load_jsonl(corpus_path)"
      ]
    },
    {
      "cell_type": "code",
      "execution_count": 4,
      "id": "4866aa39",
      "metadata": {
        "id": "4866aa39"
      },
      "outputs": [],
      "source": [
        "# Collect all entites into on array\n",
        "all_entities = []\n",
        "for cor in corpus:\n",
        "    entities = []\n",
        "    for e in cor['label']:\n",
        "        build_entity = ''\n",
        "        for i in range(e[0], e[1]):\n",
        "            build_entity += cor['text'][i]\n",
        "        entities.append(build_entity)\n",
        "    all_entities.append(entities)"
      ]
    },
    {
      "cell_type": "code",
      "execution_count": 5,
      "id": "7b3450a1",
      "metadata": {
        "colab": {
          "base_uri": "https://localhost:8080/"
        },
        "id": "7b3450a1",
        "outputId": "4fa6c363-ab28-456c-f02d-b73c7c8c7adc"
      },
      "outputs": [
        {
          "output_type": "stream",
          "name": "stdout",
          "text": [
            "Entity Count:  403\n",
            "Word Count:  15720\n"
          ]
        }
      ],
      "source": [
        "count = 0\n",
        "for en in all_entities:\n",
        "    count += len(en)\n",
        "print('Entity Count: ',count)\n",
        "\n",
        "words = 0\n",
        "for w in corpus:\n",
        "    words += len(w['text'].split(' '))\n",
        "print('Word Count: ', words)"
      ]
    },
    {
      "cell_type": "code",
      "execution_count": 6,
      "id": "18a066e7",
      "metadata": {
        "colab": {
          "base_uri": "https://localhost:8080/"
        },
        "id": "18a066e7",
        "outputId": "122ad613-24c9-44ac-89b2-7244cb88eae1"
      },
      "outputs": [
        {
          "output_type": "execute_result",
          "data": {
            "text/plain": [
              "855"
            ]
          },
          "metadata": {},
          "execution_count": 6
        }
      ],
      "source": [
        "sentences = []\n",
        "for doc in corpus:\n",
        "    for s in doc['text'].split('.'):\n",
        "        sentences.append(s)\n",
        "len(sentences)"
      ]
    },
    {
      "cell_type": "code",
      "source": [
        "import nltk\n",
        "nltk.download('stopwords')"
      ],
      "metadata": {
        "colab": {
          "base_uri": "https://localhost:8080/"
        },
        "id": "eRu1mXBMrxGy",
        "outputId": "fa2ea5dd-8714-4ca2-af65-ea605c2c82a1"
      },
      "id": "eRu1mXBMrxGy",
      "execution_count": 7,
      "outputs": [
        {
          "output_type": "stream",
          "name": "stderr",
          "text": [
            "[nltk_data] Downloading package stopwords to /root/nltk_data...\n",
            "[nltk_data]   Unzipping corpora/stopwords.zip.\n"
          ]
        },
        {
          "output_type": "execute_result",
          "data": {
            "text/plain": [
              "True"
            ]
          },
          "metadata": {},
          "execution_count": 7
        }
      ]
    },
    {
      "cell_type": "code",
      "source": [
        "from nltk.corpus import stopwords\n",
        "\n",
        "# Get a list of English stop words\n",
        "stop_words = stopwords.words('english')"
      ],
      "metadata": {
        "id": "V_I74Z4mr111"
      },
      "id": "V_I74Z4mr111",
      "execution_count": 8,
      "outputs": []
    },
    {
      "cell_type": "markdown",
      "source": [
        "## Format documents according required input params"
      ],
      "metadata": {
        "id": "geA45WRnplmW"
      },
      "id": "geA45WRnplmW"
    },
    {
      "cell_type": "code",
      "execution_count": 9,
      "id": "9ac716dd",
      "metadata": {
        "colab": {
          "base_uri": "https://localhost:8080/"
        },
        "id": "9ac716dd",
        "outputId": "78257f19-d657-48b5-b1ae-f57b25935000"
      },
      "outputs": [
        {
          "output_type": "stream",
          "name": "stdout",
          "text": [
            "----- Running for sub_corpus:  1  -----\n",
            "Tick fever\n",
            "tick fever\n",
            "Ehrlichiosis and Babesiosis\n",
            "fever\n",
            "reduced appetite\n",
            "lethargy\n",
            "blood test\n",
            "serology\n",
            "tick fever\n",
            "tick fever\n",
            "CHRONIC\n",
            "limping\n",
            "diarrhoea\n",
            "bleeding into the eyes\n",
            "CHRONIC\n",
            "tiredness\n",
            "enlarged spleen\n",
            "increased temperature\n",
            "tick fever\n",
            "Loss of appetite\n",
            "Enlarged lymph nodes\n",
            "Inflammation of joints\n",
            "Vomiting\n",
            "diarrhea\n",
            "limb swelling\n",
            "Coughing\n",
            "Breathing difficulties\n",
            "Abdominal pain\n",
            "tick fever\n",
            "tick fever\n",
            "tick fever\n",
            "tick fever\n",
            "Rocky Mountain spotted fever\n",
            "fever\n",
            "loss of appetite\n",
            "enlargement of the lymph nodes\n",
            "inflammation of several joints\n",
            "coughing\n",
            "difficulty in breathing\n",
            "abdominal pain\n",
            "vomiting\n",
            "diarrhea\n",
            "swelling of the face\n",
            "extremities\n",
            "Rocky Mountain spotted fever\n",
            "Rocky Mountain spotted fever\n",
            "Tick fever\n",
            "tick fever\n",
            "tick fever\n",
            "Coughing\n",
            "Breathing problems\n",
            "tick fever\n",
            "----- Running for sub_corpus:  2  -----\n",
            "fracture bones\n",
            "fracture\n",
            "broken leg\n",
            "Abnormal movement of a limb\n",
            "Holding the leg up\n",
            "Swelling in a limb\n",
            "Pain\n",
            "Whining\n",
            "Unwillingness\n",
            "inability to walk \n",
            "internal bleeding\n",
            "fracture\n",
            "Bone cancer\n",
            "----- Running for sub_corpus:  3  -----\n",
            "Canine demodicosis\n",
            "Demodex\n",
            "hair loss\n",
            "mild redness\n",
            "scaling\n",
            "occasional itchiness\n",
            "often hairless\n",
            "reddened\n",
            "itchy\n",
            "Alopecia\n",
            "hair loss\n",
            "Itchiness\n",
            "pain\n",
            "lethargy\n",
            "fever\n",
            "draining wounds\n",
            "skin swelling\n",
            "licking\n",
            "chewing\n",
            "itchy\n",
            "lethargic\n",
            "appetite\n",
            "scrapings\n",
            "----- Running for sub_corpus:  4  -----\n",
            "Canine distemper\n",
            "paramyxovirus\n",
            "Canine distemper\n",
            "Fever\n",
            "Nasal discharge\n",
            "Eye discharge\n",
            "Lethargy\n",
            "Sneezing\n",
            "Coughing\n",
            "Difficulty breathing\n",
            "Vomiting\n",
            "Diarrhea\n",
            "Loss of appetite\n",
            "Thickening of nose\n",
            "Pneumonia\n",
            "Canine distemper\n",
            "rabies\n",
            "canine distemper\n",
            "Muscle twitching\n",
            "Chewing-gum fits \n",
            "Excessive saliva\n",
            "Head tilt\n",
            "canine distemper\n",
            "Canine distemper\n",
            "paramyxovirus\n",
            "coughing\n",
            "sneezing \n",
            "Canine distemper\n",
            "Canine distemper\n",
            "coughs\n",
            "sneezes\n",
            "distemper\n",
            "Distemper\n",
            "fever\n",
            "loss of appetite\n",
            "clear nasal discharge\n",
            "Fever\n",
            "Clear nasal discharge\n",
            "Purulent eye discharge\n",
            "Lethargy\n",
            "Anorexia\n",
            "Coughing\n",
            "Vomiting\n",
            "Diarrhea\n",
            "Pustular dermatitis\n",
            "distemper\n",
            "distemper\n",
            "Vomiting\n",
            "Diarrhea\n",
            "Difficulty breathing\n",
            "Change in respiratory rate\n",
            "Pneumonia\n",
            "Head tilt\n",
            "Circling Partial or full paralysis\n",
            "Seizures Nystagmus\n",
            "Muscle twitching\n",
            "distemper\n",
            "canine distemper\n",
            "distemper\n",
            "diarrhea\n",
            "vomiting\n",
            "prevent dehydration\n",
            "fever\n",
            "nasal discharge\n",
            "coughing\n",
            "lethargy\n",
            "reduced appetite\n",
            "vomiting\n",
            "head tilt\n",
            "muscle twitches\n",
            "salivation\n",
            "paralysis\n",
            "Distemper\n",
            "distemper\n",
            "distemper\n",
            "vomiting\n",
            "diarrhea\n",
            "cough\n",
            "distemper\n",
            "fever\n",
            "lethargy\n",
            "Loss of appetite\n",
            "Diarrhoea\n",
            "Thickened paw pads\n",
            "Distemper\n",
            "cough\n",
            "----- Running for sub_corpus:  5  -----\n",
            "Seizures\n",
            "seizure\n",
            "seizures\n",
            "Idiopathic\n",
            "epilepsy\n",
            "seizures\n",
            "brain tumors\n",
            "brain trauma\n",
            "Seizures\n",
            "Seizures\n",
            "restless\n",
            "shaking\n",
            "salivating\n",
            "dazed look\n",
            "mild shaking\n",
            "staring aimlessly\n",
            "licking lips\n",
            "seizure\n",
            "disorientation\n",
            "salivation\n",
            "pacing\n",
            "restlessness\n",
            "temporary blindness\n",
            "seizures\n",
            "seizures\n",
            "stiff\n",
            "chomp\n",
            "salivate profusely\n",
            "urinate\n",
            "defecate\n",
            "confusion\n",
            "disorientation\n",
            "blindness\n",
            "increased thirst\n",
            "polydipsia\n",
            "increased appetite\n",
            "polyphagia\n",
            "Seizures\n",
            "----- Running for sub_corpus:  6  -----\n",
            "ear infection\n",
            "whining\n",
            "scratching\n",
            "head shaking\n",
            "ear disease\n",
            "Head shaking Scratching\n",
            "Dark discharge\n",
            "Odor\n",
            "Redness\n",
            "swelling of the ear canal\n",
            "Itchiness\n",
            "Crusting\n",
            "scabs in the ears\n",
            "Ear infections\n",
            "Endocrine disorders\n",
            " thyroid\n",
            "Autoimmune disorders\n",
            "scratching\n",
            "rubbing\n",
            "sinking of the eyeball\n",
            "lack of coordination\n",
            "head tilt\n",
            "deafness\n",
            "drooping lips\n",
            "inability to blink\n",
            "otitis externa\n",
            "head shaking\n",
            "otitis externa\n",
            "rubbing\n",
            "scratching the infected ear\n",
            "otitis media\n",
            "Head shaking Face\n",
            "head rubbing\n",
            "head tilt\n",
            "Loss of balance\n",
            "Vomiting\n",
            "tumor\n",
            "Ear infections\n",
            "shake their head\n",
            "scratch their ears\n",
            "----- Running for sub_corpus:  7  -----\n",
            "Autoimmune\n",
            "immune mediated\n",
            "Immune mediated haemolytic anaemia\n",
            "IMHA\n",
            "IMHA\n",
            "Pale gums\n",
            "Low energy\n",
            "lethargy\n",
            "Reduced appetite\n",
            "Weakness\n",
            "Collapse Jaundiced skin\n",
            "Fast breathing\n",
            "Unexplained bleeding\n",
            "IMHA\n",
            "breathing fast\n",
            "IMHA\n",
            "lethargy\n",
            "IMHA\n",
            "tumours\n",
            "infections\n",
            "IMHA\n",
            "----- Running for sub_corpus:  8  -----\n",
            "canine parvovirus\n",
            "CPV\n",
            "Parvo\n",
            "vomiting\n",
            "diarrhea\n",
            "weight loss\n",
            "lack of appetite\n",
            "Parvo\n",
            "bloody diarrhea\n",
            "lethargy\n",
            "anorexia\n",
            "Fever\n",
            "vomiting\n",
            "severe weight loss\n",
            " dehydration\n",
            "Parvo\n",
            "abdominal pain\n",
            "parvo\n",
            "parvovirus\n",
            "Parvo\n",
            "canine parvovirus\n",
            "parvo\n",
            "virus\n",
            "parvovirus\n",
            "lethargy\n",
            "loss of appetite\n",
            "abdominal pain\n",
            "bloating\n",
            "fever\n",
            "low body temperature\n",
            "hypothermia\n",
            "vomiting\n",
            "severe\n",
            "diarrhea\n",
            "vomiting\n",
            "diarrhea\n",
            "parvo\n",
            "parvovirus\n",
            "parvovirus\n",
            "parvovirus\n",
            "canine parvovirus\n",
            "parvovirus\n",
            "vomiting\n",
            "diarrhea\n",
            "bloody diarrhea\n",
            "vomiting\n",
            "fever\n",
            "rapidly lose weight\n",
            "leukopenia\n",
            "parvovirus\n",
            "----- Running for sub_corpus:  9  -----\n",
            "Pneumonia\n",
            "pneumonia\n",
            "Infectious pneumonia\n",
            "bacterial pneumonia\n",
            "bacterial\n",
            "pneumonia\n",
            "Breathing difficulties\n",
            "Coughing\n",
            "High fever\n",
            "Runny nose\n",
            "Difficulty exercising\n",
            "Nasal whistling\n",
            "wheezing\n",
            "Irregular breathing\n",
            "Dehydration\n",
            "Lethargy\n",
            "Weight loss\n",
            "loss of appetite\n",
            "pneumonia\n",
            "pneumonia\n",
            "Aspiration Pneumonia\n",
            "bacterial pneumonia\n",
            "Breathing difficulties\n",
            "Difficulty exercising\n",
            "Coughing\n",
            "High fever\n",
            "Runny nose\n",
            "Nasal whistling\n",
            "wheezing\n",
            "Irregular breathing\n",
            "Dehydration\n",
            "Lethargy\n",
            "Weight loss\n",
            " loss of appetite\n",
            "pneumonia\n",
            "coughing\n",
            "breathing problems\n",
            "pneumonia\n",
            "pneumonia\n",
            "pneumonia\n",
            "pneumonia\n",
            "circulatory disorders\n",
            "Labored breathing\n",
            "increased rate\n",
            "open-mouth breathing\n",
            "----- Running for sub_corpus:  10  -----\n",
            "pyometra\n",
            "pyometra\n",
            "pyometra\n",
            "pyometra\n",
            "pyometra\n",
            "stump pyometra\n",
            "Drinking more than usual \n",
            "Vomiting\n",
            "Pus leaking from vulva/vagina\n",
            "Bloated abdomen\n",
            "pyometra\n",
            "pyometra\n",
            "pyometra\n",
            "increased urge for water\n",
            "Nausea\n",
            "vomiting\n",
            "Bloated tummy\n",
            "Frequent panting \n",
            "Increased urination\n",
            "pyometra\n",
            "painful\n",
            "enlarged abdomen\n",
            "pyometra\n",
            "Pyometra\n",
            "Pyometra\n",
            "cystic endometrial hyperplasia\n",
            "Fever\n",
            "lethargy\n",
            "anorexia\n",
            "depression\n",
            "Vomiting\n",
            "diarrhea\n",
            "pyometra\n",
            "pyometra\n"
          ]
        }
      ],
      "source": [
        "import re\n",
        "useless_chars = ['(', ')', ':', '\\n\\n', '\\n', '[', ']']\n",
        "concat_sent_cfg = []\n",
        "annotated_docs = []\n",
        "\n",
        "# Select one item from the '''corpus'''\n",
        "for idx,document in enumerate(corpus):\n",
        "    print('----- Running for sub_corpus: ', idx+1,' -----')\n",
        "    sentences_cfg = []\n",
        "    # Get an array of entities with starting and ending indexes as '''entities''' and '''text'''\n",
        "    curr_entities = document['label']\n",
        "    original_text = document['text']\n",
        "    for uc in useless_chars:\n",
        "        original_text = original_text.replace(uc, ' ')\n",
        "    # Split the text from '''.''' and add the start and ending values from the original text\n",
        "    for curr_sent in original_text.split('.'):\n",
        "        if len(curr_sent) > 5:\n",
        "            for sen in re.finditer(curr_sent, original_text):\n",
        "                sentences_cfg.append({\n",
        "                    'text': curr_sent,\n",
        "                    'start': sen.start(),\n",
        "                    'end': sen.end()\n",
        "                })\n",
        "    # Check whether the tagged entity include in this sentence or not\n",
        "    for new_sent in sentences_cfg:\n",
        "        curr_labels = []\n",
        "        for en in curr_entities:\n",
        "            if (new_sent['start'] <= en[0] <= new_sent['end']) and (new_sent['start'] <= en[1] <= new_sent['end']):\n",
        "                # add label entities\n",
        "                curr_entity = ''.join(original_text[c] for c in range(en[0], en[1]))\n",
        "                print(curr_entity)\n",
        "                for ent in re.finditer(curr_entity, new_sent['text']):\n",
        "                    curr_labels.append([ent.start(), ent.end(), en[2]]) # start index, end index, type\n",
        "            # Add annotate sentences to annotate_sentences array\n",
        "        annotated_docs.append({\n",
        "            'text': new_sent['text'],\n",
        "            'labels': curr_labels\n",
        "        })\n",
        "    # Append all sentences to concat_sent_cfg\n",
        "    concat_sent_cfg += sentences_cfg"
      ]
    },
    {
      "cell_type": "code",
      "execution_count": 10,
      "id": "847035e9",
      "metadata": {
        "colab": {
          "base_uri": "https://localhost:8080/"
        },
        "id": "847035e9",
        "outputId": "2e4c2495-a358-461b-d370-607f624e77c3"
      },
      "outputs": [
        {
          "output_type": "execute_result",
          "data": {
            "text/plain": [
              "851"
            ]
          },
          "metadata": {},
          "execution_count": 10
        }
      ],
      "source": [
        "len(annotated_docs)"
      ]
    },
    {
      "cell_type": "code",
      "source": [
        "# Before pass through the POS tagger, we need to remove stop words\n",
        "stop_word = ['and', 'the', 'of', 'a', 'in', 'often', 'or', 'to', 'their', 'more', 'than', 'usual', 'for', 'into', 'test']"
      ],
      "metadata": {
        "id": "aRE8CWyYpPDd"
      },
      "id": "aRE8CWyYpPDd",
      "execution_count": 11,
      "outputs": []
    },
    {
      "cell_type": "code",
      "execution_count": 12,
      "id": "2c088800",
      "metadata": {
        "id": "2c088800"
      },
      "outputs": [],
      "source": [
        "'''\n",
        "  {\n",
        "    'text': 'Tick fever is the general name given to a group of diseases that are all caused by a tick bite', \n",
        "    'labels': [[0, 10, 'DISEASE']]\n",
        "  }\n",
        "'''\n",
        "def format_corpus(data, idx):\n",
        "    ann_tup = []\n",
        "    curr_sen_en = [[''.join(data['text'][c] for c in range(en[0], en[1])), en[2]] for en in data['labels']]\n",
        "    for word in data['text'].split(' '):\n",
        "        en_type = 'OTHER'\n",
        "        for cse in curr_sen_en:\n",
        "            for sw in cse[0].split(' '):\n",
        "                if sw == word:\n",
        "                    en_type = cse[1]\n",
        "        if str(word).strip() != '' and not word in stop_word:\n",
        "            ann_tup.append((word, en_type))\n",
        "    return ann_tup"
      ]
    },
    {
      "cell_type": "markdown",
      "id": "c27922b4",
      "metadata": {
        "id": "c27922b4"
      },
      "source": [
        "## Train POS using Custom Corpus"
      ]
    },
    {
      "cell_type": "code",
      "execution_count": 13,
      "id": "6afd46c2",
      "metadata": {
        "id": "6afd46c2"
      },
      "outputs": [],
      "source": [
        "word_ann_docs = []\n",
        "for idx,doc in enumerate(annotated_docs):\n",
        "    word_ann_docs += format_corpus(doc, idx)"
      ]
    },
    {
      "cell_type": "code",
      "execution_count": 14,
      "id": "49621ed7",
      "metadata": {
        "id": "49621ed7",
        "colab": {
          "base_uri": "https://localhost:8080/"
        },
        "outputId": "bfe25c25-2d39-4fe1-9a36-59ce5ecbf778"
      },
      "outputs": [
        {
          "output_type": "stream",
          "name": "stdout",
          "text": [
            "Tick\n",
            "fever\n",
            "tick\n",
            "Ehrlichiosis\n",
            "Babesiosis\n",
            "fever\n",
            "reduced\n",
            "lethargy\n",
            "blood\n",
            "reduced\n",
            "tick\n",
            "fever\n",
            "tick\n",
            "fever\n",
            "CHRONIC\n",
            "bleeding\n",
            "eyes\n",
            "CHRONIC\n",
            "enlarged\n",
            "spleen\n",
            "increased\n",
            "temperature\n",
            "tick\n",
            "fever\n",
            "Loss\n",
            "appetite\n",
            "Enlarged\n",
            "lymph\n",
            "nodes\n",
            "Inflammation\n",
            "joints\n",
            "Vomiting\n",
            "diarrhea\n",
            "limb\n",
            "swelling\n",
            "Coughing\n",
            "Breathing\n",
            "difficulties\n",
            "Abdominal\n",
            "pain\n",
            "tick\n",
            "fever\n",
            "tick\n",
            "fever\n",
            "tick\n",
            "fever\n",
            "tick\n",
            "fever\n",
            "Rocky\n",
            "Mountain\n",
            "spotted\n",
            "fever\n",
            "fever\n",
            "loss\n",
            "enlargement\n",
            "lymph\n",
            "inflammation\n",
            "several\n",
            "coughing\n",
            "difficulty\n",
            "abdominal\n",
            "vomiting\n",
            "swelling\n",
            "face\n",
            "extremities\n",
            "Rocky\n",
            "Mountain\n",
            "spotted\n",
            "fever\n",
            "Rocky\n",
            "Mountain\n",
            "spotted\n",
            "fever\n",
            "Tick\n",
            "fever\n",
            "tick\n",
            "fever\n",
            "tick\n",
            "fever\n",
            "Coughing\n",
            "Breathing\n",
            "problems\n",
            "tick\n",
            "fever\n",
            "fracture\n",
            "bones\n",
            "fracture\n",
            "broken\n",
            "leg\n",
            "Abnormal\n",
            "movement\n",
            "limb\n",
            "Holding\n",
            "leg\n",
            "up\n",
            "Swelling\n",
            "limb\n",
            "Pain\n",
            "Whining\n",
            "Unwillingness\n",
            "inability\n",
            "walk\n",
            "internal\n",
            "bleeding\n",
            "fracture\n",
            "fracture\n",
            "fracture\n",
            "Bone\n",
            "cancer\n",
            "Canine\n",
            "demodicosis\n",
            "Demodex\n",
            "hair\n",
            "mild\n",
            "occasional\n",
            "itchiness\n",
            "itchy\n",
            "Alopecia\n",
            "hair\n",
            "loss\n",
            "Itchiness\n",
            "draining\n",
            "skin\n",
            "swelling\n",
            "itchy\n",
            "lethargic\n",
            "appetite\n",
            "scrapings\n",
            "Canine\n",
            "distemper\n",
            "paramyxovirus\n",
            "Canine\n",
            "distemper\n",
            "Fever\n",
            "Nasal\n",
            "discharge\n",
            "Eye\n",
            "discharge\n",
            "Lethargy\n",
            "Sneezing\n",
            "Coughing\n",
            "Difficulty\n",
            "breathing\n",
            "Vomiting\n",
            "Diarrhea\n",
            "Loss\n",
            "appetite\n",
            "Thickening\n",
            "nose\n",
            "Pneumonia\n",
            "Canine\n",
            "distemper\n",
            "rabies\n",
            "canine\n",
            "distemper\n",
            "Muscle\n",
            "twitching\n",
            "Chewing-gum\n",
            "fits\n",
            "Excessive\n",
            "saliva\n",
            "Head\n",
            "tilt\n",
            "canine\n",
            "Canine\n",
            "distemper\n",
            "paramyxovirus\n",
            "coughing\n",
            "sneezing\n",
            "Canine\n",
            "distemper\n",
            "Canine\n",
            "distemper\n",
            "distemper\n",
            "Distemper\n",
            "discharge\n",
            "loss\n",
            "clear\n",
            "nasal\n",
            "discharge\n",
            "Fever\n",
            "Clear\n",
            "nasal\n",
            "discharge\n",
            "Purulent\n",
            "eye\n",
            "discharge\n",
            "Lethargy\n",
            "Anorexia\n",
            "Coughing\n",
            "Vomiting\n",
            "Diarrhea\n",
            "Pustular\n",
            "dermatitis\n",
            "distemper\n",
            "distemper\n",
            "distemper\n",
            "distemper\n",
            "respiratory\n",
            "Vomiting\n",
            "Diarrhea\n",
            "Difficulty\n",
            "breathing\n",
            "Change\n",
            "respiratory\n",
            "rate\n",
            "Pneumonia\n",
            "Head\n",
            "tilt\n",
            "Circling\n",
            "Partial\n",
            "full\n",
            "paralysis\n",
            "Seizures\n",
            "Nystagmus\n",
            "Muscle\n",
            "twitching\n",
            "canine\n",
            "distemper\n",
            "distemper\n",
            "prevent\n",
            "prevent\n",
            "nasal\n",
            "reduced\n",
            "vomiting\n",
            "head\n",
            "muscle\n",
            "salivation\n",
            "paralysis\n",
            "Distemper\n",
            "distemper\n",
            "distemper\n",
            "distemper\n",
            "fever\n",
            "lethargy\n",
            "Loss\n",
            "appetite\n",
            "Diarrhoea\n",
            "Thickened\n",
            "paw\n",
            "pads\n",
            "Distemper\n",
            "Seizures\n",
            "seizure\n",
            "seizures\n",
            "Idiopathic\n",
            "seizures\n",
            "brain\n",
            "brain\n",
            "Seizures\n",
            "Seizures\n",
            "salivating\n",
            "mild\n",
            "dazed\n",
            "mild\n",
            "staring\n",
            "licking\n",
            "temporary\n",
            "blindness\n",
            "seizures\n",
            "seizures\n",
            "chomp\n",
            "salivate\n",
            "confusion\n",
            "increased\n",
            "thirst\n",
            "polydipsia\n",
            "increased\n",
            "appetite\n",
            "polyphagia\n",
            "Seizures\n",
            "ear\n",
            "infection\n",
            "head\n",
            "shaking\n",
            "ear\n",
            "ear\n",
            "Head\n",
            "shaking\n",
            "Scratching\n",
            "ear\n",
            "Dark\n",
            "discharge\n",
            "Odor\n",
            "Redness\n",
            "swelling\n",
            "ear\n",
            "canal\n",
            "Itchiness\n",
            "Crusting\n",
            "scabs\n",
            "ears\n",
            "Ear\n",
            "infections\n",
            "Endocrine\n",
            "thyroid\n",
            "Autoimmune\n",
            "disorders\n",
            "rubbing\n",
            "sinking\n",
            "eyeball\n",
            "lack\n",
            "head\n",
            "drooping\n",
            "inability\n",
            "blink\n",
            "otitis\n",
            "otitis\n",
            "externa\n",
            "head\n",
            "ear\n",
            "otitis\n",
            "otitis\n",
            "externa\n",
            "head\n",
            "rubbing\n",
            "scratching\n",
            "infected\n",
            "ear\n",
            "otitis\n",
            "otitis\n",
            "media\n",
            "Head\n",
            "shaking\n",
            "rubbing\n",
            "head\n",
            "tilt\n",
            "Loss\n",
            "balance\n",
            "Vomiting\n",
            "tumor\n",
            "Ear\n",
            "infections\n",
            "shake\n",
            "head\n",
            "scratch\n",
            "ears\n",
            "immune\n",
            "Immune\n",
            "mediated\n",
            "haemolytic\n",
            "anaemia\n",
            "IMHA\n",
            "IMHA\n",
            "IMHA\n",
            "Pale\n",
            "gums\n",
            "Low\n",
            "energy\n",
            "lethargy\n",
            "Reduced\n",
            "appetite\n",
            "Weakness\n",
            "Collapse\n",
            "Jaundiced\n",
            "skin\n",
            "Fast\n",
            "breathing\n",
            "Unexplained\n",
            "bleeding\n",
            "breathing\n",
            "fast\n",
            "IMHA\n",
            "lethargy\n",
            "IMHA\n",
            "canine\n",
            "parvovirus\n",
            "CPV\n",
            "weight\n",
            "lack\n",
            "Parvo\n",
            "bloody\n",
            "diarrhea\n",
            "lethargy\n",
            "anorexia\n",
            "Fever\n",
            "vomiting\n",
            "severe\n",
            "weight\n",
            "loss\n",
            "dehydration\n",
            "abdominal\n",
            "pain\n",
            "parvo\n",
            "parvovirus\n",
            "canine\n",
            "parvovirus\n",
            "virus\n",
            "parvovirus\n",
            "loss\n",
            "abdominal\n",
            "pain\n",
            "fever\n",
            "low\n",
            "body\n",
            "temperature\n",
            "hypothermia\n",
            "diarrhea\n",
            "vomiting\n",
            "parvovirus\n",
            "parvovirus\n",
            "parvovirus\n",
            "canine\n",
            "parvovirus\n",
            "parvovirus\n",
            "vomiting\n",
            "diarrhea\n",
            "bloody\n",
            "vomiting\n",
            "fever\n",
            "rapidly\n",
            "lose\n",
            "weight\n",
            "leukopenia\n",
            "parvovirus\n",
            "Pneumonia\n",
            "Infectious\n",
            "pneumonia\n",
            "bacterial\n",
            "pneumonia\n",
            "pneumonia\n",
            "bacterial\n",
            "pneumonia\n",
            "Breathing\n",
            "difficulties\n",
            "Coughing\n",
            "High\n",
            "fever\n",
            "Runny\n",
            "nose\n",
            "Difficulty\n",
            "exercising\n",
            "Nasal\n",
            "whistling\n",
            "wheezing\n",
            "Irregular\n",
            "breathing\n",
            "Dehydration\n",
            "Lethargy\n",
            "Weight\n",
            "loss\n",
            "loss\n",
            "appetite\n",
            "pneumonia\n",
            "pneumonia\n",
            "Aspiration\n",
            "Pneumonia\n",
            "pneumonia\n",
            "bacterial\n",
            "pneumonia\n",
            "Breathing\n",
            "difficulties\n",
            "Difficulty\n",
            "exercising\n",
            "Coughing\n",
            "High\n",
            "fever\n",
            "Runny\n",
            "nose\n",
            "Nasal\n",
            "whistling\n",
            "wheezing\n",
            "Irregular\n",
            "breathing\n",
            "Dehydration\n",
            "Lethargy\n",
            "Weight\n",
            "loss\n",
            "loss\n",
            "appetite\n",
            "pneumonia\n",
            "coughing\n",
            "breathing\n",
            "problems\n",
            "pneumonia\n",
            "pneumonia\n",
            "pneumonia\n",
            "pneumonia\n",
            "circulatory\n",
            "disorders\n",
            "Labored\n",
            "increased\n",
            "open-mouth\n",
            "breathing\n",
            "pyometra\n",
            "pyometra\n",
            "pyometra\n",
            "pyometra\n",
            "pyometra\n",
            "pyometra\n",
            "stump\n",
            "pyometra\n",
            "Drinking\n",
            "Vomiting\n",
            "Pus\n",
            "leaking\n",
            "from\n",
            "vulva/vagina\n",
            "Bloated\n",
            "abdomen\n",
            "pyometra\n",
            "pyometra\n",
            "increased\n",
            "urge\n",
            "water\n",
            "Nausea\n",
            "vomiting\n",
            "Bloated\n",
            "tummy\n",
            "Frequent\n",
            "panting\n",
            "Increased\n",
            "urination\n",
            "pyometra\n",
            "enlarged\n",
            "abdomen\n",
            "pyometra\n",
            "Pyometra\n",
            "Pyometra\n",
            "cystic\n",
            "endometrial\n",
            "hyperplasia\n",
            "depression\n",
            "Vomiting\n",
            "diarrhea\n",
            "pyometra\n",
            "pyometra\n"
          ]
        }
      ],
      "source": [
        "for x in word_ann_docs:\n",
        "    if x[1] != 'OTHER':\n",
        "        print(x[0])"
      ]
    },
    {
      "cell_type": "code",
      "execution_count": 15,
      "id": "6faedefc",
      "metadata": {
        "id": "6faedefc"
      },
      "outputs": [],
      "source": [
        "# Helper functions to define the properties of the model\n",
        "def features(sentence, index):\n",
        "    return {\n",
        "        'word': sentence[index],\n",
        "        'is_first': index == 0,\n",
        "        'is_last': index == len(sentence) - 1,\n",
        "        'is_capitalized': sentence[index][0].upper() == sentence[index][0],\n",
        "        'is_all_caps': sentence[index].upper() == sentence[index],\n",
        "        'is_all_lower': sentence[index].lower() == sentence[index],\n",
        "        'prefix-1': sentence[index][0],\n",
        "        'prefix-2': sentence[index][:2],\n",
        "        'prefix-3': sentence[index][:3],\n",
        "        'suffix-1': sentence[index][-1],\n",
        "        'suffix-2': sentence[index][-2:],\n",
        "        'suffix-3': sentence[index][-3:],\n",
        "        'prev_word': '' if index == 0 else sentence[index - 1],\n",
        "        'next_word': '' if index == len(sentence) - 1 else sentence[index + 1],\n",
        "        'has_hyphen': '-' in sentence[index],\n",
        "        'is_numeric': sentence[index].isdigit(),\n",
        "        'capitals_inside': sentence[index][1:].lower() != sentence[index][1:]\n",
        "    }\n",
        "\n",
        "def untag(tagged_sentence):\n",
        "    return [w for w, t in tagged_sentence]\n",
        "\n",
        "def transform_to_dataset(tagged_sentences):\n",
        "    X, y = [], []\n",
        " \n",
        "    for tagged in tagged_sentences:\n",
        "        for index in range(len(tagged)):\n",
        "            X.append(features(untag(tagged), index))\n",
        "            y.append(tagged[index][1])\n",
        "    return X, y"
      ]
    },
    {
      "cell_type": "code",
      "execution_count": 16,
      "id": "36eca5b0",
      "metadata": {
        "id": "36eca5b0"
      },
      "outputs": [],
      "source": [
        "# Setup dataset as [('Pierre', 'NNP'), ('Vinken', 'NNP'), (',', ',')]\n",
        "tagged_sentences = [format_corpus(sentence, idx) for idx,sentence in enumerate(annotated_docs)]\n",
        "\n",
        "# Split the dataset for training and testing\n",
        "cutoff = int(.75 * len(tagged_sentences))\n",
        "training_sentences = tagged_sentences[:cutoff]\n",
        "test_sentences = tagged_sentences[cutoff:]"
      ]
    },
    {
      "cell_type": "code",
      "execution_count": 17,
      "id": "7d87cfc9",
      "metadata": {
        "id": "7d87cfc9"
      },
      "outputs": [],
      "source": [
        "X, y = transform_to_dataset(training_sentences)"
      ]
    },
    {
      "cell_type": "code",
      "execution_count": 18,
      "id": "4719c759",
      "metadata": {
        "colab": {
          "base_uri": "https://localhost:8080/"
        },
        "id": "4719c759",
        "outputId": "6338b15f-75ec-43ca-8504-be635f819231"
      },
      "outputs": [
        {
          "output_type": "execute_result",
          "data": {
            "text/plain": [
              "Pipeline(steps=[('vectorizer', DictVectorizer(sparse=False)),\n",
              "                ('classifier', DecisionTreeClassifier(criterion='entropy'))])"
            ]
          },
          "metadata": {},
          "execution_count": 18
        }
      ],
      "source": [
        "# Train the model using the decision tree classifier to idetify the named entities\n",
        "from sklearn.tree import DecisionTreeClassifier\n",
        "from sklearn.feature_extraction import DictVectorizer\n",
        "from sklearn.pipeline import Pipeline\n",
        " \n",
        "clf = Pipeline([\n",
        "    ('vectorizer', DictVectorizer(sparse=False)),\n",
        "    ('classifier', DecisionTreeClassifier(criterion='entropy'))\n",
        "])\n",
        " \n",
        "clf.fit(X[:10000], y[:10000])"
      ]
    },
    {
      "cell_type": "code",
      "source": [
        "# Save model as pickel file\n",
        "# sci-kit learn documentation suggest to save the model as .joblib instead of .pickle\n",
        "import joblib\n",
        "\n",
        "joblib.dump(clf, 'pos-tagger.joblib')"
      ],
      "metadata": {
        "colab": {
          "base_uri": "https://localhost:8080/"
        },
        "id": "S-YbAYZwtKea",
        "outputId": "a8381f8f-8ce2-4ec9-b64c-ef31c02e392e"
      },
      "id": "S-YbAYZwtKea",
      "execution_count": 19,
      "outputs": [
        {
          "output_type": "execute_result",
          "data": {
            "text/plain": [
              "['pos-tagger.joblib']"
            ]
          },
          "metadata": {},
          "execution_count": 19
        }
      ]
    },
    {
      "cell_type": "markdown",
      "source": [
        "## Tryout implementation"
      ],
      "metadata": {
        "id": "o9UmTNqgqIdo"
      },
      "id": "o9UmTNqgqIdo"
    },
    {
      "cell_type": "code",
      "source": [
        "nltk.download('punkt')"
      ],
      "metadata": {
        "colab": {
          "base_uri": "https://localhost:8080/"
        },
        "id": "bzX4YW6jutM-",
        "outputId": "7769bac1-e384-4c8d-8f36-64d4f538a2da"
      },
      "id": "bzX4YW6jutM-",
      "execution_count": 20,
      "outputs": [
        {
          "output_type": "stream",
          "name": "stderr",
          "text": [
            "[nltk_data] Downloading package punkt to /root/nltk_data...\n",
            "[nltk_data]   Unzipping tokenizers/punkt.zip.\n"
          ]
        },
        {
          "output_type": "execute_result",
          "data": {
            "text/plain": [
              "True"
            ]
          },
          "metadata": {},
          "execution_count": 20
        }
      ]
    },
    {
      "cell_type": "code",
      "execution_count": 21,
      "id": "8873dd99",
      "metadata": {
        "id": "8873dd99"
      },
      "outputs": [],
      "source": [
        "# Preprocessing (remove stop words)\n",
        "user_input = \"My dog has been vomiting and has diarrhea\"\n",
        "\n",
        "# Tokenize the sentence\n",
        "tokens = nltk.word_tokenize(user_input)\n",
        "\n",
        "# Remove stop words, (stopwords are getting fromt the NLTK library)\n",
        "filtered_tokens = [token for token in tokens if token.lower() not in stop_words]\n",
        "\n",
        "# Filtered tokens as sentence\n",
        "filtered_user_input = \" \".join(filtered_tokens)"
      ]
    },
    {
      "cell_type": "code",
      "source": [
        "# load model\n",
        "pos_tagger = joblib.load(\"pos-tagger.joblib\")"
      ],
      "metadata": {
        "id": "SbX9EQPeunh-"
      },
      "id": "SbX9EQPeunh-",
      "execution_count": 22,
      "outputs": []
    },
    {
      "cell_type": "code",
      "source": [
        "filtered_user_input"
      ],
      "metadata": {
        "colab": {
          "base_uri": "https://localhost:8080/",
          "height": 36
        },
        "id": "T1hg2jcqu98r",
        "outputId": "508309f5-51b5-45ad-c25b-ed0c5f211017"
      },
      "id": "T1hg2jcqu98r",
      "execution_count": 23,
      "outputs": [
        {
          "output_type": "execute_result",
          "data": {
            "text/plain": [
              "'dog vomiting diarrhea'"
            ],
            "application/vnd.google.colaboratory.intrinsic+json": {
              "type": "string"
            }
          },
          "metadata": {},
          "execution_count": 23
        }
      ]
    },
    {
      "cell_type": "code",
      "execution_count": 24,
      "id": "a696815c",
      "metadata": {
        "id": "a696815c",
        "outputId": "fc31be05-2b89-4cbd-aebe-60e762bfb152",
        "colab": {
          "base_uri": "https://localhost:8080/"
        }
      },
      "outputs": [
        {
          "output_type": "stream",
          "name": "stdout",
          "text": [
            "[{'word': 'dog', 'is_first': True, 'is_last': False, 'is_capitalized': False, 'is_all_caps': False, 'is_all_lower': True, 'prefix-1': 'd', 'prefix-2': 'do', 'prefix-3': 'dog', 'suffix-1': 'g', 'suffix-2': 'og', 'suffix-3': 'dog', 'prev_word': '', 'next_word': 'vomiting', 'has_hyphen': False, 'is_numeric': False, 'capitals_inside': False}, {'word': 'vomiting', 'is_first': False, 'is_last': False, 'is_capitalized': False, 'is_all_caps': False, 'is_all_lower': True, 'prefix-1': 'v', 'prefix-2': 'vo', 'prefix-3': 'vom', 'suffix-1': 'g', 'suffix-2': 'ng', 'suffix-3': 'ing', 'prev_word': 'dog', 'next_word': 'diarrhea', 'has_hyphen': False, 'is_numeric': False, 'capitals_inside': False}, {'word': 'diarrhea', 'is_first': False, 'is_last': True, 'is_capitalized': False, 'is_all_caps': False, 'is_all_lower': True, 'prefix-1': 'd', 'prefix-2': 'di', 'prefix-3': 'dia', 'suffix-1': 'a', 'suffix-2': 'ea', 'suffix-3': 'hea', 'prev_word': 'vomiting', 'next_word': '', 'has_hyphen': False, 'is_numeric': False, 'capitals_inside': False}]\n"
          ]
        },
        {
          "output_type": "execute_result",
          "data": {
            "text/plain": [
              "[('dog', 'OTHER'), ('vomiting', 'SYMPTOM'), ('diarrhea', 'SYMPTOM')]"
            ]
          },
          "metadata": {},
          "execution_count": 24
        }
      ],
      "source": [
        "from nltk import word_tokenize, pos_tag\n",
        "\n",
        "def pos_tag(sentence):\n",
        "  print([features(sentence, index) for index in range(len(sentence))])\n",
        "  tags = pos_tagger.predict([features(sentence, index) for index in range(len(sentence))])\n",
        "  return zip(sentence, tags)\n",
        "\n",
        "list(pos_tag(word_tokenize(filtered_user_input)))"
      ]
    },
    {
      "cell_type": "markdown",
      "source": [
        "## Evaluation"
      ],
      "metadata": {
        "id": "Vs-s1FNoGtb9"
      },
      "id": "Vs-s1FNoGtb9"
    },
    {
      "cell_type": "code",
      "execution_count": 25,
      "id": "a1b9b614",
      "metadata": {
        "colab": {
          "base_uri": "https://localhost:8080/"
        },
        "id": "a1b9b614",
        "outputId": "865dd69b-8058-4864-dea9-dcbf20fb4e13"
      },
      "outputs": [
        {
          "output_type": "stream",
          "name": "stdout",
          "text": [
            "Accuracy: 0.9479921000658328\n"
          ]
        }
      ],
      "source": [
        "X_test, y_test = transform_to_dataset(test_sentences)\n",
        "print(\"Accuracy:\", clf.score(X_test, y_test))"
      ]
    },
    {
      "cell_type": "code",
      "source": [
        "y_true = y_test # Test data\n",
        "y_pred = [pos_tagger.predict(word)[0] for word in X_test]\n",
        "target_names = list(set(y_test))"
      ],
      "metadata": {
        "id": "JoSIA-VXGzkt"
      },
      "id": "JoSIA-VXGzkt",
      "execution_count": 26,
      "outputs": []
    },
    {
      "cell_type": "code",
      "source": [
        "# Perform one hot encoding\n",
        "\n",
        "from sklearn import preprocessing\n",
        "encoder = preprocessing.LabelEncoder()\n",
        "encoder.fit(target_names)\n",
        "\n",
        "actual = encoder.transform(y_true)\n",
        "predict = encoder.transform(y_pred)"
      ],
      "metadata": {
        "id": "QlvBPC0wbx9h"
      },
      "id": "QlvBPC0wbx9h",
      "execution_count": 27,
      "outputs": []
    },
    {
      "cell_type": "code",
      "source": [
        "from sklearn.metrics import classification_report\n",
        "\n",
        "print(classification_report(actual, predict, target_names=target_names))"
      ],
      "metadata": {
        "id": "2WGqs0E4AYQ4",
        "outputId": "81a06863-6f83-482f-bf20-652f57b808ab",
        "colab": {
          "base_uri": "https://localhost:8080/"
        }
      },
      "id": "2WGqs0E4AYQ4",
      "execution_count": 28,
      "outputs": [
        {
          "output_type": "stream",
          "name": "stdout",
          "text": [
            "              precision    recall  f1-score   support\n",
            "\n",
            "     DISEASE       0.21      0.16      0.18        50\n",
            "       OTHER       0.97      0.98      0.97      2898\n",
            "     SYMPTOM       0.49      0.33      0.40        90\n",
            "\n",
            "    accuracy                           0.95      3038\n",
            "   macro avg       0.55      0.49      0.52      3038\n",
            "weighted avg       0.94      0.95      0.94      3038\n",
            "\n"
          ]
        }
      ]
    },
    {
      "cell_type": "code",
      "source": [
        "from sklearn.metrics import confusion_matrix\n",
        "import seaborn as sb\n",
        "import matplotlib as pt\n",
        "\n",
        "sb.set()\n",
        "get_ipython().run_line_magic('matplotlib', 'inline')\n",
        "con_matrix = confusion_matrix(actual, predict)\n",
        "sb.heatmap(con_matrix.T, square=True, annot=True, fmt='d', cbar=False)"
      ],
      "metadata": {
        "id": "-xndKo_lj3sJ",
        "outputId": "1ed80fab-d231-49c7-d079-62c056717ac1",
        "colab": {
          "base_uri": "https://localhost:8080/",
          "height": 286
        }
      },
      "id": "-xndKo_lj3sJ",
      "execution_count": 30,
      "outputs": [
        {
          "output_type": "execute_result",
          "data": {
            "text/plain": [
              "<matplotlib.axes._subplots.AxesSubplot at 0x7f466b982220>"
            ]
          },
          "metadata": {},
          "execution_count": 30
        },
        {
          "output_type": "display_data",
          "data": {
            "text/plain": [
              "<Figure size 432x288 with 1 Axes>"
            ],
            "image/png": "[encoded data removed]"
          },
          "metadata": {
            "needs_background": "light"
          }
        }
      ]
    }
  ],
  "metadata": {
    "kernelspec": {
      "display_name": "Python 3.9.6 64-bit",
      "language": "python",
      "name": "python3"
    },
    "language_info": {
      "codemirror_mode": {
        "name": "ipython",
        "version": 3
      },
      "file_extension": ".py",
      "mimetype": "text/x-python",
      "name": "python",
      "nbconvert_exporter": "python",
      "pygments_lexer": "ipython3",
      "version": "3.9.6"
    },
    "vscode": {
      "interpreter": {
        "hash": "31f2aee4e71d21fbe5cf8b01ff0e069b9275f58929596ceb00d14d90e3e16cd6"
      }
    },
    "colab": {
      "provenance": [],
      "collapsed_sections": [
        "-zEJ4RVMpelZ",
        "geA45WRnplmW"
      ]
    }
  },
  "nbformat": 4,
  "nbformat_minor": 5
}