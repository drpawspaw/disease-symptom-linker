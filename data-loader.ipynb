{
 "cells": [
  {
   "cell_type": "code",
   "execution_count": 1,
   "id": "d55c9aba-236f-4afc-8805-43deac724d7f",
   "metadata": {},
   "outputs": [
    {
     "name": "stdout",
     "output_type": "stream",
     "text": [
      "--2023-01-05 09:53:19--  https://raw.githubusercontent.com/viraj-lakshitha/animal-disease-symptom-ontology/develop/ADSOv1.0.3.owl\n",
      "Resolving raw.githubusercontent.com (raw.githubusercontent.com)... 185.199.108.133, 185.199.109.133, 185.199.110.133, ...\n",
      "Connecting to raw.githubusercontent.com (raw.githubusercontent.com)|185.199.108.133|:443... connected.\n",
      "HTTP request sent, awaiting response... 200 OK\n",
      "Length: 68571 (67K) [text/plain]\n",
      "Saving to: ‘ADSOv1.0.3.owl’\n",
      "\n",
      "ADSOv1.0.3.owl      100%[===================>]  66.96K  --.-KB/s    in 0.001s  \n",
      "\n",
      "2023-01-05 09:53:19 (54.4 MB/s) - ‘ADSOv1.0.3.owl’ saved [68571/68571]\n",
      "\n"
     ]
    }
   ],
   "source": [
    " !wget \"https://raw.githubusercontent.com/viraj-lakshitha/animal-disease-symptom-ontology/develop/ADSOv1.0.3.owl\";"
   ]
  },
  {
   "cell_type": "code",
   "execution_count": 2,
   "id": "efe6d1ad-dff1-43bb-bd5b-5a717b13237b",
   "metadata": {},
   "outputs": [
    {
     "name": "stdout",
     "output_type": "stream",
     "text": [
      "Collecting rdflib\n",
      "  Downloading rdflib-6.2.0-py3-none-any.whl (500 kB)\n",
      "\u001b[2K     \u001b[90m━━━━━━━━━━━━━━━━━━━━━━━━━━━━━━━━━━━━━━\u001b[0m \u001b[32m500.3/500.3 kB\u001b[0m \u001b[31m16.8 MB/s\u001b[0m eta \u001b[36m0:00:00\u001b[0m\n",
      "\u001b[?25hRequirement already satisfied: pyparsing in /home/codespace/.local/lib/python3.10/site-packages (from rdflib) (3.0.9)\n",
      "Collecting isodate\n",
      "  Downloading isodate-0.6.1-py2.py3-none-any.whl (41 kB)\n",
      "\u001b[2K     \u001b[90m━━━━━━━━━━━━━━━━━━━━━━━━━━━━━━━━━━━━━━━\u001b[0m \u001b[32m41.7/41.7 kB\u001b[0m \u001b[31m859.6 kB/s\u001b[0m eta \u001b[36m0:00:00\u001b[0m00:01\u001b[0m\n",
      "\u001b[?25hRequirement already satisfied: setuptools in /usr/local/python/3.10.4/lib/python3.10/site-packages (from rdflib) (58.1.0)\n",
      "Requirement already satisfied: six in /home/codespace/.local/lib/python3.10/site-packages (from isodate->rdflib) (1.16.0)\n",
      "Installing collected packages: isodate, rdflib\n",
      "Successfully installed isodate-0.6.1 rdflib-6.2.0\n"
     ]
    }
   ],
   "source": [
    "!pip install rdflib"
   ]
  },
  {
   "cell_type": "code",
   "execution_count": 15,
   "id": "5ea176e0-24b2-49bc-a9a9-da1a0fed8c9c",
   "metadata": {},
   "outputs": [
    {
     "name": "stdout",
     "output_type": "stream",
     "text": [
      "Collecting pprintpp\n",
      "  Downloading pprintpp-0.4.0-py2.py3-none-any.whl (16 kB)\n",
      "Installing collected packages: pprintpp\n",
      "Successfully installed pprintpp-0.4.0\n"
     ]
    }
   ],
   "source": [
    "!pip install pprintpp"
   ]
  },
  {
   "cell_type": "code",
   "execution_count": 3,
   "id": "fda2da2f-30e1-45ee-984f-7c3c1fcd9e01",
   "metadata": {},
   "outputs": [
    {
     "name": "stdout",
     "output_type": "stream",
     "text": [
      "ADSOv1.0.3.owl  LICENSE  README.md  data-loader.ipynb\n"
     ]
    }
   ],
   "source": [
    "%ls"
   ]
  },
  {
   "cell_type": "code",
   "execution_count": 1,
   "id": "138ddaff-cabc-4072-afe0-b63453e46d07",
   "metadata": {},
   "outputs": [],
   "source": [
    "from rdflib import Graph, Namespace, Literal, RDF, URIRef\n",
    "\n",
    "g = Graph()"
   ]
  },
  {
   "cell_type": "code",
   "execution_count": 2,
   "id": "f2179869-2ddb-4d5c-b2ea-2260445b1dee",
   "metadata": {},
   "outputs": [
    {
     "data": {
      "text/plain": [
       "[('owl', rdflib.term.URIRef('http://www.w3.org/2002/07/owl#')),\n",
       " ('rdf', rdflib.term.URIRef('http://www.w3.org/1999/02/22-rdf-syntax-ns#')),\n",
       " ('rdfs', rdflib.term.URIRef('http://www.w3.org/2000/01/rdf-schema#')),\n",
       " ('xsd', rdflib.term.URIRef('http://www.w3.org/2001/XMLSchema#')),\n",
       " ('xml', rdflib.term.URIRef('http://www.w3.org/XML/1998/namespace'))]"
      ]
     },
     "execution_count": 2,
     "metadata": {},
     "output_type": "execute_result"
    }
   ],
   "source": [
    "list(g.namespaces())"
   ]
  },
  {
   "cell_type": "code",
   "execution_count": 3,
   "id": "048b3a17-4c2b-44b5-b60e-5233f9616a14",
   "metadata": {},
   "outputs": [
    {
     "data": {
      "text/plain": [
       "<Graph identifier=N6e989db64b2b45edad2c120008e18ebc (<class 'rdflib.graph.Graph'>)>"
      ]
     },
     "execution_count": 3,
     "metadata": {},
     "output_type": "execute_result"
    }
   ],
   "source": [
    "g.parse(\"ADSOv1.0.3.owl\")"
   ]
  },
  {
   "cell_type": "code",
   "execution_count": 4,
   "id": "cf849c1b-e09d-4edf-8fc4-980a5241a881",
   "metadata": {},
   "outputs": [
    {
     "data": {
      "text/plain": [
       "746"
      ]
     },
     "execution_count": 4,
     "metadata": {},
     "output_type": "execute_result"
    }
   ],
   "source": [
    "len(g)"
   ]
  },
  {
   "cell_type": "code",
   "execution_count": 5,
   "id": "7187a7ea-81c3-41fc-a063-be2bcbf655cb",
   "metadata": {
    "tags": []
   },
   "outputs": [
    {
     "name": "stdout",
     "output_type": "stream",
     "text": [
      "(rdflib.term.URIRef('https://ontology.drpawspaw.com/ADSO0000000131'), rdflib.term.URIRef('https://ontology.drpawspaw.com/text'), rdflib.term.Literal('Auto Immune Hemolytic Anemia', lang='en')) \n",
      "\n",
      "(rdflib.term.URIRef('https://ontology.drpawspaw.com/animal'), rdflib.term.URIRef('http://www.w3.org/2000/01/rdf-schema#comment'), rdflib.term.Literal('This class defines the Animals (Eg: Dog, Cat)', lang='en')) \n",
      "\n",
      "(rdflib.term.URIRef('https://ontology.drpawspaw.com/ADSO0000000056'), rdflib.term.URIRef('https://ontology.drpawspaw.com/text'), rdflib.term.Literal('Thirsty', lang='en')) \n",
      "\n",
      "(rdflib.term.URIRef('https://ontology.drpawspaw.com/ADSO0000000051'), rdflib.term.URIRef('https://ontology.drpawspaw.com/text'), rdflib.term.Literal('Inability to Walk', lang='en')) \n",
      "\n",
      "(rdflib.term.URIRef('https://ontology.drpawspaw.com/ADSO0000000094'), rdflib.term.URIRef('http://www.w3.org/2000/01/rdf-schema#label'), rdflib.term.Literal('popping_sound_on_limbs', lang='en')) \n",
      "\n"
     ]
    }
   ],
   "source": [
    "from rdflib.namespace import OWL\n",
    "\n",
    "for idx,relation in enumerate(g):\n",
    "    if idx == 5: # Print first five relations\n",
    "        break\n",
    "    print(relation, \"\\n\")"
   ]
  },
  {
   "cell_type": "code",
   "execution_count": 6,
   "id": "56d90c6a-8c86-4849-b864-d443a18a8c56",
   "metadata": {},
   "outputs": [],
   "source": [
    "# Get the URIRef for given keyword\n",
    "def get_ref(keyword):\n",
    "    return URIRef(\"https://ontology.drpawspaw.com/\"+keyword)"
   ]
  },
  {
   "cell_type": "code",
   "execution_count": 7,
   "id": "232a5922-6739-40b9-b036-753f4dc695a5",
   "metadata": {},
   "outputs": [],
   "source": [
    "# Get the entity 'text' from the URIRef\n",
    "def get_text_from_uri(uri):\n",
    "    for s,p,o in g:\n",
    "        if s == uri and p == URIRef(\"https://ontology.drpawspaw.com/text\"):\n",
    "            return o"
   ]
  },
  {
   "cell_type": "code",
   "execution_count": 14,
   "id": "7ef13f1d-1a14-4cbf-907a-0847dd931a14",
   "metadata": {},
   "outputs": [
    {
     "name": "stdout",
     "output_type": "stream",
     "text": [
      "<class 'rdflib.term.URIRef'> https://ontology.drpawspaw.com/ADSO0000000110\n"
     ]
    }
   ],
   "source": [
    "# Collect named entities from ontology\n",
    "diseases = []\n",
    "symptoms = []\n",
    "synonyms = []\n",
    "\n",
    "for s,p,o in g:\n",
    "    if p == get_ref(\"hasDisease\"):\n",
    "        try:\n",
    "            dis = get_text_from_uri(o).toPython()\n",
    "            diseases.append(dis)\n",
    "        except:\n",
    "            print(type(o), o)\n",
    "    if p == get_ref(\"hasSymptom\"):\n",
    "        try:\n",
    "            sym = get_text_from_uri(o).toPython()\n",
    "            symptoms.append(sym)\n",
    "        except:\n",
    "            print(type(o), o)\n",
    "    if p == get_ref(\"hasSynonym\"):\n",
    "        try:\n",
    "            syn = get_text_from_uri(o).toPython()\n",
    "            synonyms.append(syn)\n",
    "        except:\n",
    "            print(type(o), o)"
   ]
  },
  {
   "cell_type": "code",
   "execution_count": 38,
   "id": "39b27dc7-f789-498d-a0e5-75a90d9d5d6c",
   "metadata": {},
   "outputs": [
    {
     "data": {
      "text/plain": [
       "[rdflib.term.Literal('Demodicosis', lang='en'),\n",
       " rdflib.term.Literal('Pyometra', lang='en'),\n",
       " rdflib.term.Literal('Bone Fractures', lang='en'),\n",
       " rdflib.term.Literal('Babesiosis', lang='en'),\n",
       " rdflib.term.Literal('Ear Infections', lang='en'),\n",
       " rdflib.term.Literal('Idiopathic Seizures', lang='en'),\n",
       " rdflib.term.Literal('Pneumonia', lang='en'),\n",
       " rdflib.term.Literal('Distempter', lang='en'),\n",
       " rdflib.term.Literal('IMHA', lang='en'),\n",
       " rdflib.term.Literal('Parvo', lang='en')]"
      ]
     },
     "execution_count": 38,
     "metadata": {},
     "output_type": "execute_result"
    }
   ],
   "source": [
    "diseases"
   ]
  },
  {
   "cell_type": "code",
   "execution_count": 15,
   "id": "bf57722c-c27a-41be-9d3a-bc18d158c9de",
   "metadata": {},
   "outputs": [],
   "source": [
    "get_text_from_uri(URIRef(\"https://ontology.drpawspaw.com/ADSO0000000110\"))"
   ]
  },
  {
   "cell_type": "code",
   "execution_count": 17,
   "id": "d0f5bcb3-d8c2-42c2-acab-091f9f02059c",
   "metadata": {},
   "outputs": [],
   "source": [
    "entities = diseases+synonyms+symptoms"
   ]
  }
 ],
 "metadata": {
  "kernelspec": {
   "display_name": "Python 3 (ipykernel)",
   "language": "python",
   "name": "python3"
  },
  "language_info": {
   "codemirror_mode": {
    "name": "ipython",
    "version": 3
   },
   "file_extension": ".py",
   "mimetype": "text/x-python",
   "name": "python",
   "nbconvert_exporter": "python",
   "pygments_lexer": "ipython3",
   "version": "3.10.4"
  }
 },
 "nbformat": 4,
 "nbformat_minor": 5
}
