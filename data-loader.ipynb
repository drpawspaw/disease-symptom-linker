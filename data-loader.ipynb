{
 "cells": [
  {
   "cell_type": "code",
   "execution_count": 1,
   "id": "d55c9aba-236f-4afc-8805-43deac724d7f",
   "metadata": {},
   "outputs": [
    {
     "name": "stdout",
     "output_type": "stream",
     "text": [
      "--2023-01-05 09:53:19--  https://raw.githubusercontent.com/viraj-lakshitha/animal-disease-symptom-ontology/develop/ADSOv1.0.3.owl\n",
      "Resolving raw.githubusercontent.com (raw.githubusercontent.com)... 185.199.108.133, 185.199.109.133, 185.199.110.133, ...\n",
      "Connecting to raw.githubusercontent.com (raw.githubusercontent.com)|185.199.108.133|:443... connected.\n",
      "HTTP request sent, awaiting response... 200 OK\n",
      "Length: 68571 (67K) [text/plain]\n",
      "Saving to: ‘ADSOv1.0.3.owl’\n",
      "\n",
      "ADSOv1.0.3.owl      100%[===================>]  66.96K  --.-KB/s    in 0.001s  \n",
      "\n",
      "2023-01-05 09:53:19 (54.4 MB/s) - ‘ADSOv1.0.3.owl’ saved [68571/68571]\n",
      "\n"
     ]
    }
   ],
   "source": [
    " !wget \"https://raw.githubusercontent.com/viraj-lakshitha/animal-disease-symptom-ontology/develop/ADSOv1.0.3.owl\";"
   ]
  },
  {
   "cell_type": "code",
   "execution_count": 2,
   "id": "efe6d1ad-dff1-43bb-bd5b-5a717b13237b",
   "metadata": {},
   "outputs": [
    {
     "name": "stdout",
     "output_type": "stream",
     "text": [
      "Collecting rdflib\n",
      "  Downloading rdflib-6.2.0-py3-none-any.whl (500 kB)\n",
      "\u001b[2K     \u001b[90m━━━━━━━━━━━━━━━━━━━━━━━━━━━━━━━━━━━━━━\u001b[0m \u001b[32m500.3/500.3 kB\u001b[0m \u001b[31m16.8 MB/s\u001b[0m eta \u001b[36m0:00:00\u001b[0m\n",
      "\u001b[?25hRequirement already satisfied: pyparsing in /home/codespace/.local/lib/python3.10/site-packages (from rdflib) (3.0.9)\n",
      "Collecting isodate\n",
      "  Downloading isodate-0.6.1-py2.py3-none-any.whl (41 kB)\n",
      "\u001b[2K     \u001b[90m━━━━━━━━━━━━━━━━━━━━━━━━━━━━━━━━━━━━━━━\u001b[0m \u001b[32m41.7/41.7 kB\u001b[0m \u001b[31m859.6 kB/s\u001b[0m eta \u001b[36m0:00:00\u001b[0m00:01\u001b[0m\n",
      "\u001b[?25hRequirement already satisfied: setuptools in /usr/local/python/3.10.4/lib/python3.10/site-packages (from rdflib) (58.1.0)\n",
      "Requirement already satisfied: six in /home/codespace/.local/lib/python3.10/site-packages (from isodate->rdflib) (1.16.0)\n",
      "Installing collected packages: isodate, rdflib\n",
      "Successfully installed isodate-0.6.1 rdflib-6.2.0\n"
     ]
    }
   ],
   "source": [
    "!pip install rdflib"
   ]
  },
  {
   "cell_type": "code",
   "execution_count": 15,
   "id": "5ea176e0-24b2-49bc-a9a9-da1a0fed8c9c",
   "metadata": {},
   "outputs": [
    {
     "name": "stdout",
     "output_type": "stream",
     "text": [
      "Collecting pprintpp\n",
      "  Downloading pprintpp-0.4.0-py2.py3-none-any.whl (16 kB)\n",
      "Installing collected packages: pprintpp\n",
      "Successfully installed pprintpp-0.4.0\n"
     ]
    }
   ],
   "source": [
    "!pip install pprintpp"
   ]
  },
  {
   "cell_type": "code",
   "execution_count": 3,
   "id": "fda2da2f-30e1-45ee-984f-7c3c1fcd9e01",
   "metadata": {},
   "outputs": [
    {
     "name": "stdout",
     "output_type": "stream",
     "text": [
      "ADSOv1.0.3.owl  LICENSE  README.md  data-loader.ipynb\n"
     ]
    }
   ],
   "source": [
    "%ls"
   ]
  },
  {
   "cell_type": "code",
   "execution_count": 1,
   "id": "138ddaff-cabc-4072-afe0-b63453e46d07",
   "metadata": {},
   "outputs": [],
   "source": [
    "from rdflib import Graph, Namespace, Literal, RDF, URIRef\n",
    "\n",
    "g = Graph()"
   ]
  },
  {
   "cell_type": "code",
   "execution_count": 2,
   "id": "f2179869-2ddb-4d5c-b2ea-2260445b1dee",
   "metadata": {},
   "outputs": [
    {
     "data": {
      "text/plain": [
       "[('owl', rdflib.term.URIRef('http://www.w3.org/2002/07/owl#')),\n",
       " ('rdf', rdflib.term.URIRef('http://www.w3.org/1999/02/22-rdf-syntax-ns#')),\n",
       " ('rdfs', rdflib.term.URIRef('http://www.w3.org/2000/01/rdf-schema#')),\n",
       " ('xsd', rdflib.term.URIRef('http://www.w3.org/2001/XMLSchema#')),\n",
       " ('xml', rdflib.term.URIRef('http://www.w3.org/XML/1998/namespace'))]"
      ]
     },
     "execution_count": 2,
     "metadata": {},
     "output_type": "execute_result"
    }
   ],
   "source": [
    "list(g.namespaces())"
   ]
  },
  {
   "cell_type": "code",
   "execution_count": 3,
   "id": "048b3a17-4c2b-44b5-b60e-5233f9616a14",
   "metadata": {},
   "outputs": [
    {
     "data": {
      "text/plain": [
       "<Graph identifier=N4ba74ec67964439eb22842c7b38ceb98 (<class 'rdflib.graph.Graph'>)>"
      ]
     },
     "execution_count": 3,
     "metadata": {},
     "output_type": "execute_result"
    }
   ],
   "source": [
    "g.parse(\"ADSOv1.0.3.owl\")"
   ]
  },
  {
   "cell_type": "code",
   "execution_count": 4,
   "id": "cf849c1b-e09d-4edf-8fc4-980a5241a881",
   "metadata": {},
   "outputs": [
    {
     "data": {
      "text/plain": [
       "746"
      ]
     },
     "execution_count": 4,
     "metadata": {},
     "output_type": "execute_result"
    }
   ],
   "source": [
    "len(g)"
   ]
  },
  {
   "cell_type": "code",
   "execution_count": 5,
   "id": "7187a7ea-81c3-41fc-a063-be2bcbf655cb",
   "metadata": {
    "tags": []
   },
   "outputs": [
    {
     "name": "stdout",
     "output_type": "stream",
     "text": [
      "(rdflib.term.URIRef('https://ontology.drpawspaw.com/ADSO0000000048'), rdflib.term.URIRef('https://ontology.drpawspaw.com/text'), rdflib.term.Literal('Swelling Limbs', lang='en')) \n",
      "\n",
      "(rdflib.term.URIRef('https://ontology.drpawspaw.com/ADSO0000000090'), rdflib.term.URIRef('http://www.w3.org/1999/02/22-rdf-syntax-ns#type'), rdflib.term.URIRef('http://www.w3.org/2002/07/owl#NamedIndividual')) \n",
      "\n",
      "(rdflib.term.URIRef('https://ontology.drpawspaw.com/ADSO0000000096'), rdflib.term.URIRef('https://ontology.drpawspaw.com/text'), rdflib.term.Literal('Discharge from the Valva', lang='en')) \n",
      "\n",
      "(rdflib.term.URIRef('https://ontology.drpawspaw.com/ADSO0000000108'), rdflib.term.URIRef('http://www.w3.org/2000/01/rdf-schema#label'), rdflib.term.Literal('walking_problems', lang='en')) \n",
      "\n",
      "(rdflib.term.URIRef('https://ontology.drpawspaw.com/ADSO0000000026'), rdflib.term.URIRef('http://www.w3.org/1999/02/22-rdf-syntax-ns#type'), rdflib.term.URIRef('https://ontology.drpawspaw.com/symptom')) \n",
      "\n"
     ]
    }
   ],
   "source": [
    "from rdflib.namespace import OWL\n",
    "\n",
    "for idx,relation in enumerate(g):\n",
    "    if idx == 5: # Print first five relations\n",
    "        break\n",
    "    print(relation, \"\\n\")"
   ]
  },
  {
   "cell_type": "code",
   "execution_count": 6,
   "id": "56d90c6a-8c86-4849-b864-d443a18a8c56",
   "metadata": {},
   "outputs": [],
   "source": [
    "# Get the URIRef for given keyword\n",
    "def get_ref(keyword):\n",
    "    return URIRef(\"https://ontology.drpawspaw.com/\"+keyword)"
   ]
  },
  {
   "cell_type": "code",
   "execution_count": 7,
   "id": "232a5922-6739-40b9-b036-753f4dc695a5",
   "metadata": {},
   "outputs": [],
   "source": [
    "# Get the entity 'text' from the URIRef\n",
    "def get_text_from_uri(uri):\n",
    "    for s,p,o in g:\n",
    "        if s == uri and p == URIRef(\"https://ontology.drpawspaw.com/text\"):\n",
    "            return o"
   ]
  },
  {
   "cell_type": "code",
   "execution_count": 8,
   "id": "7ef13f1d-1a14-4cbf-907a-0847dd931a14",
   "metadata": {},
   "outputs": [
    {
     "name": "stdout",
     "output_type": "stream",
     "text": [
      "<class 'rdflib.term.URIRef'> https://ontology.drpawspaw.com/ADSO0000000110\n"
     ]
    }
   ],
   "source": [
    "# Collect named entities from ontology\n",
    "diseases = []\n",
    "symptoms = []\n",
    "synonyms = []\n",
    "\n",
    "for s,p,o in g:\n",
    "    if p == get_ref(\"hasDisease\"):\n",
    "        try:\n",
    "            dis = get_text_from_uri(o).toPython()\n",
    "            diseases.append(dis)\n",
    "        except:\n",
    "            print(type(o), o)\n",
    "    if p == get_ref(\"hasSymptom\"):\n",
    "        try:\n",
    "            sym = get_text_from_uri(o).toPython()\n",
    "            symptoms.append(sym)\n",
    "        except:\n",
    "            print(type(o), o)\n",
    "    if p == get_ref(\"hasSynonym\"):\n",
    "        try:\n",
    "            syn = get_text_from_uri(o).toPython()\n",
    "            synonyms.append(syn)\n",
    "        except:\n",
    "            print(type(o), o)"
   ]
  },
  {
   "cell_type": "code",
   "execution_count": 9,
   "id": "39b27dc7-f789-498d-a0e5-75a90d9d5d6c",
   "metadata": {},
   "outputs": [
    {
     "data": {
      "text/plain": [
       "['Distempter',\n",
       " 'Pneumonia',\n",
       " 'IMHA',\n",
       " 'Parvo',\n",
       " 'Babesiosis',\n",
       " 'Ear Infections',\n",
       " 'Bone Fractures',\n",
       " 'Pyometra',\n",
       " 'Idiopathic Seizures',\n",
       " 'Demodicosis']"
      ]
     },
     "execution_count": 9,
     "metadata": {},
     "output_type": "execute_result"
    }
   ],
   "source": [
    "diseases"
   ]
  },
  {
   "cell_type": "code",
   "execution_count": 10,
   "id": "bf57722c-c27a-41be-9d3a-bc18d158c9de",
   "metadata": {},
   "outputs": [],
   "source": [
    "get_text_from_uri(URIRef(\"https://ontology.drpawspaw.com/ADSO0000000110\"))"
   ]
  },
  {
   "cell_type": "code",
   "execution_count": 11,
   "id": "d0f5bcb3-d8c2-42c2-acab-091f9f02059c",
   "metadata": {},
   "outputs": [],
   "source": [
    "entities = diseases+synonyms+symptoms"
   ]
  },
  {
   "cell_type": "code",
   "execution_count": 18,
   "id": "bc9695fc-22c9-4294-b060-c2380cf4a599",
   "metadata": {},
   "outputs": [],
   "source": [
    "# List of symptoms and their synonyms\n",
    "symp_syn = []\n",
    "\n",
    "def is_exist(keyword, collection):\n",
    "    for _,k,_ in collection:\n",
    "        if k == keyword:\n",
    "            return True\n",
    "\n",
    "for s,p,o in g:\n",
    "    # Filter synonyms\n",
    "    if p == get_ref(\"hasSymptom\"):\n",
    "        try:\n",
    "            x = get_text_from_uri(o).toPython()\n",
    "        except:\n",
    "            continue\n",
    "\n",
    "        curr_symp_syn = []\n",
    "        for s1, p1, o1 in g:\n",
    "            # Filter synonym for above \"o\" entity\n",
    "            if s1 == o and p1 == get_ref(\"hasSynonym\"):\n",
    "                try:\n",
    "                    y = get_text_from_uri(o1).toPython()\n",
    "                    curr_symp_syn.append(y)                    \n",
    "                except:\n",
    "                    continue\n",
    "        # if len(curr_symp_syn) != 0 and not is_exist(x ,symp_syn):\n",
    "        if not is_exist(x ,symp_syn):\n",
    "            try:\n",
    "                idx = o.toPython()\n",
    "                symp_syn.append((idx, x, curr_symp_syn))\n",
    "            except:\n",
    "                continue"
   ]
  },
  {
   "cell_type": "code",
   "execution_count": 20,
   "id": "aea0554b-0bf5-4a55-91d8-39914a92e247",
   "metadata": {},
   "outputs": [
    {
     "data": {
      "text/plain": [
       "[('https://ontology.drpawspaw.com/ADSO0000000059', 'Bloated Tummy', []),\n",
       " ('https://ontology.drpawspaw.com/ADSO0000000065', 'Unusual Collapse', []),\n",
       " ('https://ontology.drpawspaw.com/ADSO0000000048', 'Swelling Limbs', []),\n",
       " ('https://ontology.drpawspaw.com/ADSO0000000007', 'coughing', []),\n",
       " ('https://ontology.drpawspaw.com/ADSO0000000045', 'Weight Loss', []),\n",
       " ('https://ontology.drpawspaw.com/ADSO0000000027', 'Eye Discharge', []),\n",
       " ('https://ontology.drpawspaw.com/ADSO0000000008', 'Vomiting', []),\n",
       " ('https://ontology.drpawspaw.com/ADSO0000000078', 'Thickening of Skin', []),\n",
       " ('https://ontology.drpawspaw.com/ADSO0000000005', 'Fever', []),\n",
       " ('https://ontology.drpawspaw.com/ADSO0000000034', 'Muscle Twitching', []),\n",
       " ('https://ontology.drpawspaw.com/ADSO0000000057', 'Nausea', []),\n",
       " ('https://ontology.drpawspaw.com/ADSO0000000016', 'Blood Diarrhea', []),\n",
       " ('https://ontology.drpawspaw.com/ADSO0000000070', 'Kidney Disease', []),\n",
       " ('https://ontology.drpawspaw.com/ADSO0000000082', 'Fast Breathing', []),\n",
       " ('https://ontology.drpawspaw.com/ADSO0000000038',\n",
       "  'Involuntary Eye Movements',\n",
       "  []),\n",
       " ('https://ontology.drpawspaw.com/ADSO0000000097', 'Dark Discharge', []),\n",
       " ('https://ontology.drpawspaw.com/ADSO0000000076', 'Pigmentation of Skin', []),\n",
       " ('https://ontology.drpawspaw.com/ADSO0000000075',\n",
       "  'Bumps on Skin',\n",
       "  ['Papules']),\n",
       " ('https://ontology.drpawspaw.com/ADSO0000000029',\n",
       "  'Scratching Ears',\n",
       "  ['Crusting in the Ears']),\n",
       " ('https://ontology.drpawspaw.com/ADSO0000000040', 'Seizures', []),\n",
       " ('https://ontology.drpawspaw.com/ADSO0000000017', 'Lethargy', ['Low Energy']),\n",
       " ('https://ontology.drpawspaw.com/ADSO0000000006',\n",
       "  'Inflammation of Joints',\n",
       "  []),\n",
       " ('https://ontology.drpawspaw.com/ADSO0000000050', 'Whining', []),\n",
       " ('https://ontology.drpawspaw.com/ADSO0000000100',\n",
       "  'Swelling of Ear Canals',\n",
       "  []),\n",
       " ('https://ontology.drpawspaw.com/ADSO0000000023', 'Pain', []),\n",
       " ('https://ontology.drpawspaw.com/ADSO0000000053',\n",
       "  'Severe Weight Loss',\n",
       "  ['Reduce body Weight']),\n",
       " ('https://ontology.drpawspaw.com/ADSO0000000018', 'Anorexia', []),\n",
       " ('https://ontology.drpawspaw.com/ADSO0000000081',\n",
       "  'Jaundiced Skin',\n",
       "  ['Yellow Skin']),\n",
       " ('https://ontology.drpawspaw.com/ADSO0000000071', 'Electrolyte Problem', []),\n",
       " ('https://ontology.drpawspaw.com/ADSO0000000019', 'Brain Cancer', []),\n",
       " ('https://ontology.drpawspaw.com/ADSO0000000028', 'Sneezing', []),\n",
       " ('https://ontology.drpawspaw.com/ADSO0000000046',\n",
       "  'Abnormal Movement of Limbs',\n",
       "  []),\n",
       " ('https://ontology.drpawspaw.com/ADSO0000000067', 'Liver Disease', []),\n",
       " ('https://ontology.drpawspaw.com/ADSO0000000052', 'Severe Lameness', []),\n",
       " ('https://ontology.drpawspaw.com/ADSO0000000009', 'Diarrhea', []),\n",
       " ('https://ontology.drpawspaw.com/ADSO0000000041',\n",
       "  'High Fever',\n",
       "  ['Increase Body Heat', 'High Temperature']),\n",
       " ('https://ontology.drpawspaw.com/ADSO0000000047', 'Holding the Leg up', []),\n",
       " ('https://ontology.drpawspaw.com/ADSO0000000030',\n",
       "  'Loss of Appetite',\n",
       "  ['Reduce Appetite']),\n",
       " ('https://ontology.drpawspaw.com/ADSO0000000014', 'Limb Swelling', []),\n",
       " ('https://ontology.drpawspaw.com/ADSO0000000099', 'Redness', []),\n",
       " ('https://ontology.drpawspaw.com/ADSO0000000091', 'Weakness', []),\n",
       " ('https://ontology.drpawspaw.com/ADSO0000000025', 'Low Body Temperature', []),\n",
       " ('https://ontology.drpawspaw.com/ADSO0000000073', 'Head Injury', []),\n",
       " ('https://ontology.drpawspaw.com/ADSO0000000072', 'Anemia', []),\n",
       " ('https://ontology.drpawspaw.com/ADSO0000000096',\n",
       "  'Discharge from the Valva',\n",
       "  []),\n",
       " ('https://ontology.drpawspaw.com/ADSO0000000068', 'Low Blood Sugar', []),\n",
       " ('https://ontology.drpawspaw.com/ADSO0000000093',\n",
       "  'Breathing Difficulties',\n",
       "  ['Breathing Problems', 'Irregular Breathing']),\n",
       " ('https://ontology.drpawspaw.com/ADSO0000000024',\n",
       "  'Discomfort',\n",
       "  ['Uncomfortable']),\n",
       " ('https://ontology.drpawspaw.com/ADSO0000000020', 'Dehydration', []),\n",
       " ('https://ontology.drpawspaw.com/ADSO0000000022', 'Rapid Heart Beat', []),\n",
       " ('https://ontology.drpawspaw.com/ADSO0000000031',\n",
       "  'Thickening of nose and foot pads',\n",
       "  []),\n",
       " ('https://ontology.drpawspaw.com/ADSO0000000066', 'Eating Poison', []),\n",
       " ('https://ontology.drpawspaw.com/ADSO0000000098',\n",
       "  'Odor',\n",
       "  ['Bad Smell', 'Unpleasant Smell']),\n",
       " ('https://ontology.drpawspaw.com/ADSO0000000021', 'Red Inflamed Tissue', []),\n",
       " ('https://ontology.drpawspaw.com/ADSO0000000039', 'Paralysis', []),\n",
       " ('https://ontology.drpawspaw.com/ADSO0000000037',\n",
       "  'Head Tilt',\n",
       "  ['Head Shaking']),\n",
       " ('https://ontology.drpawspaw.com/ADSO0000000044', 'Itchiness', []),\n",
       " ('https://ontology.drpawspaw.com/ADSO0000000036', 'Excessive Saliva', []),\n",
       " ('https://ontology.drpawspaw.com/ADSO0000000026',\n",
       "  'Nasal Discharge',\n",
       "  ['Nasal Whistling', 'Nasal Wheezing']),\n",
       " ('https://ontology.drpawspaw.com/ADSO0000000056', 'Thirsty', []),\n",
       " ('https://ontology.drpawspaw.com/ADSO0000000000', 'Encephalitis', []),\n",
       " ('https://ontology.drpawspaw.com/ADSO0000000032', 'Pneumonia', []),\n",
       " ('https://ontology.drpawspaw.com/ADSO0000000043',\n",
       "  'Difficulty Exercising',\n",
       "  []),\n",
       " ('https://ontology.drpawspaw.com/ADSO0000000079',\n",
       "  'Pale Gums',\n",
       "  ['White gum', 'Gray gum', 'Yellow gum']),\n",
       " ('https://ontology.drpawspaw.com/ADSO0000000074', 'Skin Scaling', []),\n",
       " ('https://ontology.drpawspaw.com/ADSO0000000095',\n",
       "  'Popping sound on bones',\n",
       "  []),\n",
       " ('https://ontology.drpawspaw.com/ADSO0000000063', 'Alopecia', ['Hair Loss']),\n",
       " ('https://ontology.drpawspaw.com/ADSO0000000064', 'Increase Urination', []),\n",
       " ('https://ontology.drpawspaw.com/ADSO0000000049', 'Scrab Eyes', []),\n",
       " ('https://ontology.drpawspaw.com/ADSO0000000069', 'High Blood Sugar', []),\n",
       " ('https://ontology.drpawspaw.com/ADSO0000000055', 'Bruising', []),\n",
       " ('https://ontology.drpawspaw.com/ADSO0000000061', 'Fatigue', []),\n",
       " ('https://ontology.drpawspaw.com/ADSO0000000042', 'Running Nose', []),\n",
       " ('https://ontology.drpawspaw.com/ADSO0000000012', 'Stroke', []),\n",
       " ('https://ontology.drpawspaw.com/ADSO0000000015',\n",
       "  'Abnormal Pain',\n",
       "  ['Heavy Pain', 'Severe Pain']),\n",
       " ('https://ontology.drpawspaw.com/ADSO0000000062', 'Appetite Changes', []),\n",
       " ('https://ontology.drpawspaw.com/ADSO0000000060', 'Frequent Paning', []),\n",
       " ('https://ontology.drpawspaw.com/ADSO0000000051', 'Inability to Walk', []),\n",
       " ('https://ontology.drpawspaw.com/ADSO0000000033', 'Skin Sores', [])]"
      ]
     },
     "execution_count": 20,
     "metadata": {},
     "output_type": "execute_result"
    }
   ],
   "source": [
    "symp_syn"
   ]
  },
  {
   "cell_type": "code",
   "execution_count": 55,
   "id": "a0918f72-c8ff-4948-b8cd-85fdf4b8671a",
   "metadata": {},
   "outputs": [
    {
     "name": "stdout",
     "output_type": "stream",
     "text": [
      "Stored 'symp_syn' (list)\n"
     ]
    }
   ],
   "source": [
    "%store symp_syn"
   ]
  },
  {
   "cell_type": "code",
   "execution_count": null,
   "id": "81bd4e1e-a587-403a-816e-c0639dbe4d81",
   "metadata": {},
   "outputs": [],
   "source": []
  }
 ],
 "metadata": {
  "kernelspec": {
   "display_name": "Python 3 (ipykernel)",
   "language": "python",
   "name": "python3"
  },
  "language_info": {
   "codemirror_mode": {
    "name": "ipython",
    "version": 3
   },
   "file_extension": ".py",
   "mimetype": "text/x-python",
   "name": "python",
   "nbconvert_exporter": "python",
   "pygments_lexer": "ipython3",
   "version": "3.10.4"
  }
 },
 "nbformat": 4,
 "nbformat_minor": 5
}
